{
 "cells": [
  {
   "cell_type": "code",
   "execution_count": 1,
   "id": "050c7bb3-c81f-4162-9c8d-65b233f66662",
   "metadata": {},
   "outputs": [],
   "source": [
    "import pandas as pd\n",
    "import numpy as np\n",
    "import pandas as pd\n",
    "import numpy as np\n",
    "import matplotlib.pyplot as plt\n",
    "from matplotlib.gridspec import GridSpec\n",
    "from matplotlib.colors import LogNorm\n",
    "from itertools import chain\n",
    "from tqdm import tqdm\n",
    "from skspatial.objects import Points, Line\n",
    "\n",
    "import warnings\n",
    "import pandas as pd\n",
    "\n",
    "# Suppress pandas’ SettingWithCopyWarning\n",
    "pd.options.mode.chained_assignment = None  \n",
    "\n",
    "# Suppress all FutureWarning (including your Series positional‐indexing warning)\n",
    "warnings.filterwarnings(\"ignore\", category=FutureWarning)\n",
    "\n",
    "plt.rcParams['xtick.labelsize'] = 15\n",
    "plt.rcParams['ytick.labelsize'] = 15\n",
    "plt.rcParams['axes.labelsize'] = 15"
   ]
  },
  {
   "cell_type": "code",
   "execution_count": 2,
   "id": "fb10e312",
   "metadata": {},
   "outputs": [],
   "source": [
    "#### fit_parameters\n",
    "dist_z = 8.5 # [mm] distance between planes\n",
    "Lgap = 4.85 # GAP STAVE mm + addition distance for space compliance (mechanincal)\n",
    "Sgap = 0.15 # GAP CHIP mm\n",
    "\n",
    "max_point_forfit = 20\n",
    "n_minpoints_HT = 2\n",
    "dist_max = 1 # max distance for track association\n",
    "theta_point_HT = 500 #5000 # number of points sample with the HT\n",
    "theta_binning_HT = 500 #500 # number of points sample with the HT\n",
    "rho_binning_HT = 500 #500 # number of points sample with the HT\n",
    "\n",
    "#### dumping_tracks\n",
    "max_res_dump = 1000 # [mm] max error on a track to be dumped\n",
    "\n",
    "plot_ev_flag = False # save tracker event displays \n",
    "plot_ev_thr = 3 # min number of points in the event to be plotted\n",
    "plot_trk_thr = 0 \n",
    "\n"
   ]
  },
  {
   "cell_type": "code",
   "execution_count": 3,
   "id": "e3eea39e",
   "metadata": {},
   "outputs": [],
   "source": [
    "def display_single_fit(ev,vec_reco,cent_reco,outname,planelabel):\n",
    "\n",
    "    eps = 0.0000001\n",
    "\n",
    "    vec_reco = np.array(vec_reco)\n",
    "    vec_reco = np.where(vec_reco==0,eps,vec_reco)\n",
    "\n",
    "    color = ['b','r','g','k','y','m','c','b','r','g','k','y','m','c','b','r','g','k','y','m','c','b','r','g','k','y','m','c','b','r','g','k','y','m','c','b','r','g','k','y','m','c']\n",
    "\n",
    "    fig = plt.figure(figsize = (20,8))\n",
    "    gs = GridSpec(2, 3, figure=fig)\n",
    "    ax1 = fig.add_subplot(gs[0, :2])\n",
    "    #plt.subplot(1,3,1)\n",
    "    plt.title('x-z view',fontsize = 15)\n",
    "    for i,i_trk in enumerate(np.unique(ev.trk_nr.values)):\n",
    "        ev_trk = ev[ev.trk_nr == i_trk]\n",
    "        if len(ev_trk)>=2 and i_trk != -1:\n",
    "            ax1.scatter(ev_trk.x_pos.values,ev_trk.z_pos.values, c = color[int(i_trk)], label = 'track '+str(int(ev_trk.trk_nr.values[0]))+\", HT plane \"+planelabel, alpha = 0.5, s = 100)\n",
    "            ax1.plot(np.linspace(0,150),(cent_reco[i][2]-cent_reco[i][0]*vec_reco[i][2]/vec_reco[i][0]) + vec_reco[i][2]/vec_reco[i][0] * np.linspace(0,150), c = color[int(i_trk)], label = 'fit track '+str(int(ev_trk.trk_nr.values[0])))\n",
    "        else:\n",
    "            ax1.scatter(ev_trk.x_pos.values,ev_trk.z_pos.values, c = color[-1], label = 'noise', alpha = 0.5, s = 100)\n",
    "    ax1.legend()\n",
    "    ax1.plot([0.,150.],[0.,0.], color = 'blue')\n",
    "    ax1.plot([0.,150.],[-1*dist_z,-1*dist_z], color = 'blue')\n",
    "    ax1.plot([0.,150.],[-2*dist_z,-2*dist_z], color = 'blue')\n",
    "    ax1.set_xlabel('x [mm]')\n",
    "    ax1.set_ylabel('z [mm]')\n",
    "    ax1.grid(alpha = 0.5)\n",
    "    ax1.set_xlim(-10,160)\n",
    "    ax1.set_ylim(-25.5,8.5)\n",
    "\n",
    "    #plt.subplot(1,3,2)\n",
    "    ax2 = fig.add_subplot(gs[1, :2])\n",
    "    plt.title('y-z view',fontsize = 15)\n",
    "    for i,i_trk in enumerate(np.unique(ev.trk_nr.values)):\n",
    "        ev_trk = ev[ev.trk_nr == i_trk]\n",
    "        if len(ev_trk)>=2 and i_trk != -1:\n",
    "            ax2.scatter(ev_trk.y_pos.values,ev_trk.z_pos.values, c = color[int(i_trk)], label = 'track '+str(int(ev_trk.trk_nr.values[0]))+\", HT plane \"+planelabel, alpha = 0.5, s = 100)\n",
    "            ax2.plot(np.linspace(0.,175.),(cent_reco[i][2]-cent_reco[i][1]*vec_reco[i][2]/vec_reco[i][1]) + vec_reco[i][2]/vec_reco[i][1] * np.linspace(0.,175.), c = color[int(i_trk)], label = 'fit track '+str(int(ev_trk.trk_nr.values[0])))\n",
    "        else:\n",
    "            ax2.scatter(ev_trk.y_pos.values,ev_trk.z_pos.values, c = color[-1], label = 'noise', alpha = 0.5, s = 100)\n",
    "    ax2.legend()\n",
    "    for tur in range(0,5):\n",
    "        shift = tur*(30+Lgap+Sgap)\n",
    "        ax2.plot([shift + 0.,shift + 30.],[0.,0.], color = 'blue')\n",
    "        ax2.plot([shift + 0.,shift + 30.],[-1*dist_z,-1*dist_z], color = 'blue')\n",
    "        ax2.plot([shift + 0.,shift + 30.],[-2*dist_z,-2*dist_z], color = 'blue')\n",
    "    ax2.set_xlabel('y [mm]')\n",
    "    ax2.set_ylabel('z [mm]')\n",
    "    ax2.grid(alpha = 0.5)\n",
    "    ax2.set_xlim(-10,180)\n",
    "    ax2.set_ylim(-25.5,8.5)\n",
    "    \n",
    "    #plt.subplot(1,3,3)\n",
    "    ax3 = fig.add_subplot(gs[:, 2])\n",
    "    plt.title('x-y view',fontsize = 15)\n",
    "    for i,i_trk in enumerate(np.unique(ev.trk_nr.values)):\n",
    "        ev_trk = ev[ev.trk_nr == i_trk]\n",
    "        if len(ev_trk)>=2 and i_trk != -1:\n",
    "            ax3.scatter(ev_trk.x_pos.values,ev_trk.y_pos.values, c = color[int(i_trk)], label = 'track '+str(int(ev_trk.trk_nr.values[0]))+\", HT plane \"+planelabel, alpha = 0.5, s = 100)\n",
    "            ax3.plot(np.linspace(0,150),(cent_reco[i][1]-cent_reco[i][0]*vec_reco[i][1]/vec_reco[i][0]) + vec_reco[i][1]/vec_reco[i][0] * np.linspace(0,150), c = color[int(i_trk)], label = 'fit track '+str(int(ev_trk.trk_nr.values[0])))\n",
    "        else:\n",
    "            ax3.scatter(ev_trk.x_pos.values,ev_trk.y_pos.values, c = color[-1], label = 'noise', alpha = 0.5, s = 100)\n",
    "    ax3.legend()\n",
    "\n",
    "    for tur in range(0,5):\n",
    "        shift = tur*(30+Lgap+Sgap)\n",
    "        ax3.plot([0.,150.],[shift + 0.,shift + 0.], color = 'blue')\n",
    "        ax3.plot([0.,150.],[shift + 30.,shift + 30.], color = 'blue')\n",
    "        ax3.plot([0.,0.],[shift + 0.,shift + 30.], color = 'blue')\n",
    "        ax3.plot([150.,150.],[shift + 0.,shift + 30.], color = 'blue')\n",
    "    \n",
    "    ax3.set_xlabel('x [mm]')\n",
    "    ax3.set_ylabel('y [mm]')\n",
    "    ax3.grid(alpha = 0.5)\n",
    "    ax3.set_xlim(-10,160)\n",
    "    ax3.set_ylim(-15,180)\n",
    "    \n",
    "    plt.tight_layout()\n",
    "    plt.savefig(outname)\n",
    "    plt.close()"
   ]
  },
  {
   "cell_type": "code",
   "execution_count": 4,
   "id": "80b77f30",
   "metadata": {},
   "outputs": [],
   "source": [
    "def res_calculation_Xsigned(ev,vec_reco,cent_reco):\n",
    "    dist = []\n",
    "    eps = 0.0000001\n",
    "\n",
    "    vec_reco = np.array(vec_reco)\n",
    "    vec_reco = np.where(vec_reco==0,eps,vec_reco)\n",
    "\n",
    "    for i in range(0,len(ev)):\n",
    "        x_point = ev.x_pos.values[i]\n",
    "        x_point_line = ev.z_pos.values[i]/(vec_reco[2]/vec_reco[0]) - (cent_reco[2]-cent_reco[0]*vec_reco[2]/vec_reco[0])/(vec_reco[2]/vec_reco[0])\n",
    "        dist.append(x_point_line-x_point)\n",
    "    return dist\n",
    "\n",
    "def res_calculation_Ysigned(ev,vec_reco,cent_reco):\n",
    "    dist = []\n",
    "    eps = 0.0000001\n",
    "\n",
    "    vec_reco = np.array(vec_reco)\n",
    "    vec_reco = np.where(vec_reco==0,eps,vec_reco)\n",
    "\n",
    "    for i in range(0,len(ev)):\n",
    "        y_point = ev.y_pos.values[i]\n",
    "        y_point_line = ev.z_pos.values[i]/(vec_reco[2]/vec_reco[1]) - (cent_reco[2]-cent_reco[1]*vec_reco[2]/vec_reco[1])/(vec_reco[2]/vec_reco[1])\n",
    "        dist.append(y_point_line-y_point)\n",
    "    return np.array(dist)\n",
    "\n",
    "def res_calculation(ev,vec_reco,cent_reco):\n",
    "    dist = []\n",
    "    for i in range(0,len(ev)):\n",
    "        point = np.array([ev.x_pos.values[i],ev.y_pos.values[i],ev.z_pos.values[i]])\n",
    "        point_line = np.array(cent_reco)\n",
    "        t_min = np.dot(point-point_line,vec_reco)/np.linalg.norm(vec_reco)**2\n",
    "        dist.append(np.sqrt((cent_reco[0]+t_min*vec_reco[0]-point[0])**2+(cent_reco[1]+t_min*vec_reco[1]-point[1])**2+(cent_reco[2]+t_min*vec_reco[2]-point[2])**2))\n",
    "    return dist"
   ]
  },
  {
   "cell_type": "code",
   "execution_count": 5,
   "metadata": {},
   "outputs": [],
   "source": [
    "def distanceSegment3D(p,a,b):\n",
    "    # normalized tangent vector\n",
    "    d = np.divide(b - a, np.linalg.norm(b - a))\n",
    "    # signed parallel distance components\n",
    "    s = np.dot(a - p, d)\n",
    "    t = np.dot(p - b, d)\n",
    "    # clamped parallel distance\n",
    "    h = np.maximum.reduce([s, t, 0])\n",
    "    # perpendicular distance component\n",
    "    c = np.cross(p - a, d)\n",
    "    return np.hypot(h, np.linalg.norm(c))\n",
    "\n",
    "def distancePointLine(x_point,y_point,q,m):\n",
    "    return np.abs(y_point-(m*x_point+q))/(np.sqrt(1+m**2))\n",
    "\n",
    "def point_Rtheta(x,y,theta):\n",
    "    return np.cos(theta)*x+np.sin(theta)*y\n",
    "\n",
    "def fitline(rho,theta):\n",
    "    x_0 = rho*np.cos(theta)\n",
    "    y_0 = rho*np.sin(theta)\n",
    "    q = y_0+x_0/np.tan(theta)\n",
    "    m = -1/np.tan(theta)\n",
    "    return q,m\n",
    "\n",
    "def calc_weight_TrkAss(ev):\n",
    "    num = len(ev[ev.trk_nr != -1])\n",
    "    den = len(ev)\n",
    "    return den-num#10/(num/den)\n",
    "\n",
    "def IterativeHoughTransform(df_events,i_ev,dim1,dim2):\n",
    "    #print(dim1,dim2)\n",
    "    i_track = 0\n",
    "    df_ev = df_events[df_events.event==i_ev]\n",
    "    while len(df_ev[df_ev[\"trk_nr\"] == -1]) >= 3:\n",
    "        #print(df_ev)\n",
    "        theta_tot, rho_tot = [],[]\n",
    "\n",
    "        for row in df_ev[df_ev[\"trk_nr\"] == -1].iterrows():\n",
    "\n",
    "            if (dim1 == \"x_pos\" and dim2 == \"z_pos\"):\n",
    "                theta = np.concatenate((np.linspace(0.,np.pi/2-0.2,int(theta_point_HT/2)),np.linspace(np.pi/2+0.2,np.pi,int(theta_point_HT/2))))\n",
    "            if (dim1 == \"y_pos\" and dim2 == \"z_pos\"):\n",
    "                theta = np.concatenate((np.linspace(0.,np.pi/2-0.2,int(theta_point_HT/2)),np.linspace(np.pi/2+0.2,np.pi,int(theta_point_HT/2))))\n",
    "            if (dim1 == \"x_pos\" and dim2 == \"y_pos\"):\n",
    "                theta = np.linspace(0.,np.pi,theta_point_HT)\n",
    "\n",
    "            rho = point_Rtheta(row[1][dim1],row[1][dim2],theta)\n",
    "            theta_tot.append(theta)\n",
    "            rho_tot.append(rho)\n",
    "\n",
    "        theta_tot = list(chain.from_iterable(theta_tot))\n",
    "        rho_tot = list(chain.from_iterable(rho_tot))\n",
    "        hist,bin_x,bin_y = np.histogram2d(theta_tot,rho_tot,bins=[theta_binning_HT,rho_binning_HT], range=([0,np.pi],[-300,300]))\n",
    "        \n",
    "        x_ind, y_ind = np.unravel_index(np.argmax(hist), hist.shape)\n",
    "        bin_x_vec = (bin_x[x_ind]+bin_x[x_ind+1])/2\n",
    "        bin_y_vec = (bin_y[y_ind]+bin_y[y_ind+1])/2\n",
    "        q, m = fitline(bin_y_vec,bin_x_vec)\n",
    "        for row in df_ev[df_ev[\"trk_nr\"] == -1].iterrows():\n",
    "            x_point, y_point = row[1][dim1], row[1][dim2]\n",
    "            d = distancePointLine(x_point, y_point, q, m)\n",
    "            if d < dist_max :\n",
    "                df_events['trk_nr'].loc[row[0]] = i_track\n",
    "            #print(d)\n",
    "        i_track += 1\n",
    "        df_ev = df_events[df_events.event==i_ev]\n",
    "        #print(df_ev)\n",
    "    return df_events\n",
    "\n",
    "\n",
    "\n",
    "\n",
    "def ChooseBestHough(df_h_xy,df_h_xz,df_h_yz):\n",
    "    tot_ev = np.unique(np.concatenate((np.unique(df_h_xy.event.values),np.unique(df_h_xz.event.values),np.unique(df_h_yz.event.values)),axis=0))\n",
    "    df_sel_tot = pd.DataFrame()\n",
    "    plane_choosen = []\n",
    "    for __,i_ev in tqdm(enumerate(tot_ev), total = len(tot_ev)):\n",
    "        skip = False\n",
    "        plane = \"\"\n",
    "        df_sel = pd.DataFrame()\n",
    "        if len(df_h_xy[df_h_xy.event == i_ev])<=n_minpoints_HT:\n",
    "            df_sel = df_h_xy[df_h_xy.event == i_ev]\n",
    "            plane = \"xy\"\n",
    "        else:\n",
    "            fin_res = []\n",
    "            fin_w = []\n",
    "            if (len(df_h_xy[(df_h_xy.event == i_ev) & (df_h_xy.trk_nr != -1)])>0):\n",
    "            \n",
    "                ev = df_h_xy[(df_h_xy.event == i_ev) & (df_h_xy.trk_nr!=-1)]\n",
    "                ev_vec_reco, ev_cent_reco, points_onplanes = [], [], []\n",
    "                res_tot = 0\n",
    "                for i_trk,j in enumerate(np.unique(ev.trk_nr.values)):\n",
    "                    trk = ev[ev.trk_nr == j]\n",
    "                    vec_reco,cent_reco,points_onplanes = ev_fitpoints(trk)\n",
    "                    res_x = res_calculation_Xsigned(trk,vec_reco,cent_reco)\n",
    "                    res_y = res_calculation_Ysigned(trk,vec_reco,cent_reco)\n",
    "                    res_tot += np.sum(np.abs(np.concatenate([res_x,res_y],axis=0)))\n",
    "                w = calc_weight_TrkAss(df_h_xy[(df_h_xy.event == i_ev)])\n",
    "                fin_w.append(w)\n",
    "                fin_res.append(res_tot+w)\n",
    "                # already good track skip other projections\n",
    "                #if res_tot<1.:\n",
    "                #    skip = True\n",
    "            else:\n",
    "                fin_res.append(1000)\n",
    "\n",
    "            if (len(df_h_xz[(df_h_xz.event == i_ev) & (df_h_xz.trk_nr != -1)])>0):\n",
    "\n",
    "                ev = df_h_xz[(df_h_xz.event == i_ev) & (df_h_xz.trk_nr!=-1)]\n",
    "                ev_vec_reco, ev_cent_reco, points_onplanes = [], [], []\n",
    "                res_tot = 0\n",
    "                for i_trk,j in enumerate(np.unique(ev.trk_nr.values)):\n",
    "                    trk = ev[ev.trk_nr == j]\n",
    "                    vec_reco,cent_reco,points_onplanes = ev_fitpoints(trk)\n",
    "                    res_x = res_calculation_Xsigned(trk,vec_reco,cent_reco)\n",
    "                    res_y = res_calculation_Ysigned(trk,vec_reco,cent_reco)\n",
    "                    res_tot += np.sum(np.abs(np.concatenate([res_x,res_y],axis=0)))\n",
    "                w = calc_weight_TrkAss(df_h_xz[(df_h_xz.event == i_ev)])\n",
    "                fin_w.append(w)\n",
    "                fin_res.append(res_tot+w)\n",
    "                #if res_tot<1.:\n",
    "                #    skip = True\n",
    "            else:\n",
    "                fin_res.append(1000)\n",
    "\n",
    "            if (len(df_h_yz[(df_h_yz.event == i_ev) & (df_h_yz.trk_nr != -1)])>0):\n",
    "                \n",
    "                ev = df_h_yz[(df_h_yz.event == i_ev) & (df_h_yz.trk_nr!=-1)]\n",
    "                ev_vec_reco, ev_cent_reco, points_onplanes = [], [], []\n",
    "                res_tot = 0\n",
    "                for i_trk,j in enumerate(np.unique(ev.trk_nr.values)):\n",
    "                    trk = ev[ev.trk_nr == j]\n",
    "                    vec_reco,cent_reco,points_onplanes = ev_fitpoints(trk)\n",
    "                    res_x = res_calculation_Xsigned(trk,vec_reco,cent_reco)\n",
    "                    res_y = res_calculation_Ysigned(trk,vec_reco,cent_reco)\n",
    "                    res_tot += np.sum(np.abs(np.concatenate([res_x,res_y],axis=0)))\n",
    "                w = calc_weight_TrkAss(df_h_yz[(df_h_yz.event == i_ev)])\n",
    "                fin_w.append(w)\n",
    "                fin_res.append(res_tot+w)\n",
    "                #if res_tot<1.:\n",
    "                #    skip = True\n",
    "            else:\n",
    "                fin_res.append(1000)\n",
    "\n",
    "            if np.argmin(fin_res) == 0:\n",
    "                df_sel = df_h_xy[df_h_xy.event == i_ev]\n",
    "                plane = \"xy\"\n",
    "            if np.argmin(fin_res) == 1:\n",
    "                df_sel = df_h_xz[df_h_xz.event == i_ev]\n",
    "                plane = \"xz\"\n",
    "            if np.argmin(fin_res) == 2:\n",
    "                df_sel = df_h_yz[df_h_yz.event == i_ev]\n",
    "                plane = \"yz\"\n",
    "        plane_choosen.append(plane)\n",
    "        df_sel_tot = pd.concat([df_sel_tot,df_sel])\n",
    "    return df_sel_tot, plane_choosen\n",
    "\n",
    "\n",
    "def HoughTransform_xy(df_events_old):\n",
    "    df_events = df_events_old.copy()\n",
    "    df_events[\"trk_nr\"] = -1*np.ones(len(df_events)) \n",
    "\n",
    "    for __,i_ev in tqdm(enumerate(np.unique(df_events.event)),total = len(np.unique(df_events.event))):\n",
    "\n",
    "        df_ev = df_events[df_events.event==i_ev]\n",
    "        if len(df_ev)<=n_minpoints_HT:\n",
    "            for row in df_ev.iterrows():\n",
    "                df_events['trk_nr'].loc[row[0]] = 0\n",
    "            continue\n",
    "\n",
    "        if (len(df_ev)>max_point_forfit):\n",
    "            continue\n",
    "\n",
    "        IterativeHoughTransform(df_events,i_ev,'x_pos','y_pos')\n",
    "\n",
    "    return df_events\n",
    "\n",
    "\n",
    "def HoughTransform_yz(df_events_old):\n",
    "    df_events = df_events_old.copy()\n",
    "    df_events[\"trk_nr\"] = -1*np.ones(len(df_events)) \n",
    "    for __,i_ev in tqdm(enumerate(np.unique(df_events.event)),total = len(np.unique(df_events.event))):\n",
    "\n",
    "        df_ev = df_events[df_events.event==i_ev]\n",
    "\n",
    "        if len(df_ev)<=n_minpoints_HT:\n",
    "            for row in df_ev.iterrows():\n",
    "                df_events['trk_nr'].loc[row[0]] = 0\n",
    "            continue\n",
    "\n",
    "        if (len(df_ev)>max_point_forfit):\n",
    "            continue\n",
    "\n",
    "        IterativeHoughTransform(df_events,i_ev,'y_pos','z_pos')\n",
    "\n",
    "    return df_events\n",
    "\n",
    "\n",
    "def HoughTransform_xz(df_events_old):\n",
    "    df_events = df_events_old.copy()\n",
    "    df_events[\"trk_nr\"] = -1*np.ones(len(df_events)) \n",
    "\n",
    "    for __,i_ev in tqdm(enumerate(np.unique(df_events.event)),total = len(np.unique(df_events.event))):\n",
    "\n",
    "        df_ev = df_events[df_events.event==i_ev]\n",
    "\n",
    "        if len(df_ev)<=n_minpoints_HT:\n",
    "            for row in df_ev.iterrows():\n",
    "                df_events['trk_nr'].loc[row[0]] = 0\n",
    "            continue\n",
    "\n",
    "        if (len(df_ev)>max_point_forfit):\n",
    "            continue\n",
    "\n",
    "        IterativeHoughTransform(df_events,i_ev,'x_pos','z_pos')\n",
    "\n",
    "    return df_events\n",
    "\n",
    "\n",
    "\n",
    "\n",
    "def ev_fitpoints(ev):\n",
    "    if (len(ev) >= 2) and not (np.all(ev.trk_nr.values == -1)):\n",
    "        points_ =  Points(ev[['x_pos','y_pos','z_pos']].values)\n",
    "        dir_reco = np.array(Line.best_fit(points_).direction)\n",
    "        centroid_reco = np.array(Line.best_fit(points_).point)\n",
    "        if dir_reco[2]>0:\n",
    "            dir_reco = -dir_reco\n",
    "        points_onplanes = np.array([[centroid_reco[0]+(0-centroid_reco[2])*dir_reco[0]/dir_reco[2],centroid_reco[1]+(0-centroid_reco[2])*dir_reco[1]/dir_reco[2],0],\n",
    "                                 [centroid_reco[0]+(-dist_z-centroid_reco[2])*dir_reco[0]/dir_reco[2],centroid_reco[1]+(-dist_z-centroid_reco[2])*dir_reco[1]/dir_reco[2],-dist_z],\n",
    "                                 [centroid_reco[0]+(-2*dist_z-centroid_reco[2])*dir_reco[0]/dir_reco[2],centroid_reco[1]+(-2*dist_z-centroid_reco[2])*dir_reco[1]/dir_reco[2],-2*dist_z]])\n",
    "    else:\n",
    "        dir_reco = [-999,-999,-999]\n",
    "        centroid_reco = [-999,-999,-999]\n",
    "        points_onplanes = np.array([[-999,-999,-999],\n",
    "                                 [-999,-999,-999],\n",
    "                                 [-999,-999,-999]])\n",
    "    return dir_reco,centroid_reco,points_onplanes\n",
    "\n",
    "def fit_all_events(df, label, plane_choosen, out_dir):\n",
    "    list_dir = []\n",
    "    list_theta = []\n",
    "    list_phi = []\n",
    "    list_ev_number_tracks = []\n",
    "    list_point = []\n",
    "    list_points_on_planes = []\n",
    "    res_1_x, res_1_y, res_2_x, res_2_y, res_3_x, res_3_y = [],[],[],[],[],[]\n",
    "    list_ev_number_vertex = []\n",
    "    list_d_vertex = []\n",
    "    list_coord_vertex = []\n",
    "    if len(df)>0:\n",
    "\n",
    "        for i_ev,i in tqdm(enumerate(np.unique(df.event.values)),total=len(np.unique(df.event.values))):\n",
    "            list_theta_ev = []\n",
    "            vertex_dir,vertex_point = [],[]\n",
    "            ev = df[df.event == i]\n",
    "            ev_vec_reco, ev_cent_reco = [], []\n",
    "            if np.all(ev.trk_nr.values == -1):\n",
    "                continue\n",
    "\n",
    "            for i_trk,j in enumerate(np.unique(ev.trk_nr.values)):\n",
    "\n",
    "                trk = ev[ev.trk_nr == j]\n",
    "\n",
    "                vec_reco,cent_reco,points_onplanes = ev_fitpoints(trk)\n",
    "                vec_z = np.array([0.,0.,-1.])\n",
    "\n",
    "                res_x = res_calculation_Xsigned(trk,vec_reco,cent_reco)\n",
    "                res_y = res_calculation_Ysigned(trk,vec_reco,cent_reco)\n",
    "                res_tot = np.sum(np.abs(np.concatenate([res_x,res_y],axis=0)))\n",
    "\n",
    "                if np.max(np.abs(res_tot))<max_res_dump and not (np.all(ev[ev.trk_nr == j].trk_nr.values == -1)):\n",
    "                    list_theta.append(np.arccos(np.clip(np.dot(vec_reco,vec_z),-1,1)))\n",
    "                    list_theta_ev.append(np.arccos(np.clip(np.dot(vec_reco,vec_z),-1,1)))\n",
    "                    list_phi.append(np.arctan2(vec_reco[1],vec_reco[0]))\n",
    "                    list_point.append(cent_reco)   \n",
    "                    list_points_on_planes.append(points_onplanes) \n",
    "                    list_ev_number_tracks.append(i)\n",
    "                    list_dir.append(vec_reco)\n",
    "                    vertex_dir.append(vec_reco)\n",
    "                    vertex_point.append(cent_reco)\n",
    "                    if len(res_x) == 3:\n",
    "                        res_1_x.append(res_x[0])\n",
    "                        res_1_y.append(res_y[0])\n",
    "                        res_2_x.append(res_x[1])\n",
    "                        res_2_y.append(res_y[1])\n",
    "                        res_3_x.append(res_x[2])\n",
    "                        res_3_y.append(res_y[2])\n",
    "                ev_vec_reco.append(vec_reco)\n",
    "                ev_cent_reco.append(cent_reco)\n",
    "\n",
    "            if len(vertex_point)==2 and np.max(np.abs(res_tot))<max_res_dump and not (np.all(ev[ev.trk_nr == j].trk_nr.values == -1)):\n",
    "                d_vertex = 10000\n",
    "                vertex = []\n",
    "                for t in np.linspace(-4000,4000,1000):\n",
    "                    a = vertex_point[0]+4000*vertex_dir[0]\n",
    "                    b = vertex_point[0]-4000*vertex_dir[0]\n",
    "                    p = vertex_point[1]+t*vertex_dir[1]\n",
    "                    d_temp = distanceSegment3D(p,a,b)\n",
    "                    if d_temp <= d_vertex:\n",
    "                        d_vertex = d_temp\n",
    "                        vertex = p\n",
    "                list_ev_number_vertex.append(i)\n",
    "                list_d_vertex.append(d_vertex)\n",
    "                list_coord_vertex.append(vertex)\n",
    "\n",
    "            if plot_ev_flag==True and len(ev)>plot_ev_thr and len(np.unique(ev.trk_nr[ev.trk_nr!=-1].values))>=plot_trk_thr:\n",
    "                display_single_fit(ev,ev_vec_reco,ev_cent_reco,out_dir+'/ev_display/ev_'+str(i)+'_track_'+str(label)+'.png',plane_choosen[i_ev])\n",
    "\n",
    "    return np.array(list_ev_number_tracks),np.array(list_ev_number_vertex),np.array(list_dir), np.array(list_point), np.array(list_theta), np.array(list_phi), np.array(list_points_on_planes), np.array(res_1_x), np.array(res_1_y), np.array(res_2_x), np.array(res_2_y), np.array(res_3_x), np.array(res_3_y), np.array(list_d_vertex), np.array(list_coord_vertex)\n",
    "\n",
    "\n",
    "def fit_events(data):\n",
    "\n",
    "    if len(data)==0:\n",
    "        return data,[[-999.,-999.,-999.]],[[-999.,-999.,-999.]]\n",
    "    \n",
    "    print('Hough Track Seeding running...')\n",
    "    df_clusters_hough_xy = HoughTransform_xy(data)\n",
    "    df_clusters_hough_xy['event_trk_nr'] = df_clusters_hough_xy[['event','trk_nr']].apply(lambda x: str(x[0])+'_'+str(x[1]), axis=1)\n",
    "    horizontal_xy = df_clusters_hough_xy.groupby(by=['event_trk_nr'])['z_pos'].nunique()[df_clusters_hough_xy.groupby(by=['event_trk_nr'])['z_pos'].nunique()<2].index.values\n",
    "    df_clusters_hough_xy[\"trk_nr\"] = df_clusters_hough_xy[['event_trk_nr','trk_nr']].apply(lambda x: -1 if x[0] in horizontal_xy else x[1], axis=1)\n",
    "\n",
    "    df_clusters_hough_xz = HoughTransform_xz(data)\n",
    "    df_clusters_hough_xz['event_trk_nr'] = df_clusters_hough_xz[['event','trk_nr']].apply(lambda x: str(x[0])+'_'+str(x[1]), axis=1)\n",
    "    horizontal_xz = df_clusters_hough_xz.groupby(by=['event_trk_nr'])['z_pos'].nunique()[df_clusters_hough_xz.groupby(by=['event_trk_nr'])['z_pos'].nunique()<2].index.values\n",
    "    df_clusters_hough_xz[\"trk_nr\"] = df_clusters_hough_xz[['event_trk_nr','trk_nr']].apply(lambda x: -1 if x[0] in horizontal_xz else x[1], axis=1)\n",
    "\n",
    "    df_clusters_hough_yz = HoughTransform_yz(data)\n",
    "    df_clusters_hough_yz['event_trk_nr'] = df_clusters_hough_yz[['event','trk_nr']].apply(lambda x: str(x[0])+'_'+str(x[1]), axis=1)\n",
    "    horizontal_yz = df_clusters_hough_yz.groupby(by=['event_trk_nr'])['z_pos'].nunique()[df_clusters_hough_yz.groupby(by=['event_trk_nr'])['z_pos'].nunique()<2].index.values\n",
    "    df_clusters_hough_yz[\"trk_nr\"] = df_clusters_hough_yz[['event_trk_nr','trk_nr']].apply(lambda x: -1 if x[0] in horizontal_yz else x[1], axis=1)\n",
    "\n",
    "    print('Choose best hough')\n",
    "    df_clusters_hough_best, plane_choosen = ChooseBestHough(df_clusters_hough_xy,df_clusters_hough_xz,df_clusters_hough_yz)\n",
    "\n",
    "   # use fit_all_events to get the fit parameters and display\n",
    "    print('Fit all events')\n",
    "    ev_number_tracks, ev_number_vertex, vec, point, theta, phi, points_onplanes, res_1_x, res_1_y, res_2_x, res_2_y, res_3_x, res_3_y, d_vertex, coord_vertex = fit_all_events(df_clusters_hough_best,'HT',plane_choosen,'./')\n",
    "\n",
    "    return df_clusters_hough_best,vec,point\n"
   ]
  },
  {
   "cell_type": "code",
   "execution_count": 6,
   "id": "f1ddb5d2",
   "metadata": {},
   "outputs": [
    {
     "name": "stdout",
     "output_type": "stream",
     "text": [
      "Hough Track Seeding running...\n"
     ]
    },
    {
     "name": "stderr",
     "output_type": "stream",
     "text": [
      "100%|██████████| 10001/10001 [06:40<00:00, 24.97it/s]\n",
      "100%|██████████| 10001/10001 [07:21<00:00, 22.63it/s]\n",
      "100%|██████████| 10001/10001 [07:14<00:00, 23.00it/s]\n"
     ]
    },
    {
     "name": "stdout",
     "output_type": "stream",
     "text": [
      "Choose best hough\n"
     ]
    },
    {
     "name": "stderr",
     "output_type": "stream",
     "text": [
      "100%|██████████| 10001/10001 [06:57<00:00, 23.98it/s]\n"
     ]
    },
    {
     "name": "stdout",
     "output_type": "stream",
     "text": [
      "Fit all events\n"
     ]
    },
    {
     "name": "stderr",
     "output_type": "stream",
     "text": [
      "100%|██████████| 10001/10001 [02:28<00:00, 67.45it/s]\n"
     ]
    },
    {
     "name": "stdout",
     "output_type": "stream",
     "text": [
      "Hough Track Seeding running...\n"
     ]
    },
    {
     "name": "stderr",
     "output_type": "stream",
     "text": [
      "100%|██████████| 10001/10001 [07:56<00:00, 20.99it/s]\n",
      "100%|██████████| 10001/10001 [08:51<00:00, 18.83it/s]\n",
      "100%|██████████| 10001/10001 [08:39<00:00, 19.25it/s]\n"
     ]
    },
    {
     "name": "stdout",
     "output_type": "stream",
     "text": [
      "Choose best hough\n"
     ]
    },
    {
     "name": "stderr",
     "output_type": "stream",
     "text": [
      "100%|██████████| 10001/10001 [07:41<00:00, 21.69it/s]\n"
     ]
    },
    {
     "name": "stdout",
     "output_type": "stream",
     "text": [
      "Fit all events\n"
     ]
    },
    {
     "name": "stderr",
     "output_type": "stream",
     "text": [
      "100%|██████████| 10001/10001 [02:40<00:00, 62.17it/s]\n"
     ]
    },
    {
     "name": "stdout",
     "output_type": "stream",
     "text": [
      "Hough Track Seeding running...\n"
     ]
    },
    {
     "name": "stderr",
     "output_type": "stream",
     "text": [
      "100%|██████████| 10001/10001 [05:47<00:00, 28.78it/s]\n",
      "100%|██████████| 10001/10001 [06:26<00:00, 25.89it/s]\n",
      "100%|██████████| 10001/10001 [06:22<00:00, 26.18it/s]\n"
     ]
    },
    {
     "name": "stdout",
     "output_type": "stream",
     "text": [
      "Choose best hough\n"
     ]
    },
    {
     "name": "stderr",
     "output_type": "stream",
     "text": [
      "100%|██████████| 10001/10001 [05:52<00:00, 28.39it/s]\n"
     ]
    },
    {
     "name": "stdout",
     "output_type": "stream",
     "text": [
      "Fit all events\n"
     ]
    },
    {
     "name": "stderr",
     "output_type": "stream",
     "text": [
      "100%|██████████| 10001/10001 [01:51<00:00, 89.71it/s] \n"
     ]
    },
    {
     "name": "stdout",
     "output_type": "stream",
     "text": [
      "Hough Track Seeding running...\n"
     ]
    },
    {
     "name": "stderr",
     "output_type": "stream",
     "text": [
      "100%|██████████| 10001/10001 [01:47<00:00, 93.33it/s]\n",
      "100%|██████████| 10001/10001 [01:57<00:00, 85.42it/s]\n",
      "100%|██████████| 10001/10001 [01:56<00:00, 85.50it/s]\n"
     ]
    },
    {
     "name": "stdout",
     "output_type": "stream",
     "text": [
      "Choose best hough\n"
     ]
    },
    {
     "name": "stderr",
     "output_type": "stream",
     "text": [
      "100%|██████████| 10001/10001 [02:55<00:00, 57.05it/s]\n"
     ]
    },
    {
     "name": "stdout",
     "output_type": "stream",
     "text": [
      "Fit all events\n"
     ]
    },
    {
     "name": "stderr",
     "output_type": "stream",
     "text": [
      "100%|██████████| 10001/10001 [00:36<00:00, 271.14it/s]\n"
     ]
    },
    {
     "name": "stdout",
     "output_type": "stream",
     "text": [
      "Hough Track Seeding running...\n"
     ]
    },
    {
     "name": "stderr",
     "output_type": "stream",
     "text": [
      "100%|██████████| 10001/10001 [00:22<00:00, 445.22it/s]\n",
      "100%|██████████| 10001/10001 [00:24<00:00, 414.96it/s]\n",
      "100%|██████████| 10001/10001 [00:23<00:00, 420.27it/s]\n"
     ]
    },
    {
     "name": "stdout",
     "output_type": "stream",
     "text": [
      "Choose best hough\n"
     ]
    },
    {
     "name": "stderr",
     "output_type": "stream",
     "text": [
      "100%|██████████| 10001/10001 [01:57<00:00, 85.40it/s]\n"
     ]
    },
    {
     "name": "stdout",
     "output_type": "stream",
     "text": [
      "Fit all events\n"
     ]
    },
    {
     "name": "stderr",
     "output_type": "stream",
     "text": [
      "100%|██████████| 10001/10001 [00:11<00:00, 862.69it/s]\n"
     ]
    }
   ],
   "source": [
    "names = [f\"10k_{i}_tracks.csv\" for i in range(6,11)]\n",
    "namesave = [f\"reco_{i}_10k\" for i in range(6,11)]\n",
    "dirsave = \"C:\\\\Users\\\\lcdit\\\\OneDrive\\\\Desktop\\\\Uni\\\\Triennale\\\\Tesi\\\\Met_2\\\\\"\n",
    "dir = \"C:\\\\Users\\\\lcdit\\\\OneDrive\\\\Desktop\\\\Uni\\\\Triennale\\\\Tesi\\\\data\\\\\"\n",
    "for i,name in enumerate(names):\n",
    "        \n",
    "    df = pd.read_csv(dir+name)\n",
    "\n",
    "    df.event = df.event.astype(int)\n",
    "    df_clusters_hough_best,vec,point = fit_events(df)\n",
    "    df_clusters_hough_best.to_csv(dirsave+namesave[i],index = False)\n"
   ]
  },
  {
   "cell_type": "code",
   "execution_count": 7,
   "id": "252c533b",
   "metadata": {},
   "outputs": [],
   "source": [
    "time_run = [239,645,1021,1042,20,30,1230,1840,2147,1578,551,197]#secondi\n"
   ]
  },
  {
   "cell_type": "code",
   "execution_count": 17,
   "id": "a8f34262",
   "metadata": {},
   "outputs": [
    {
     "name": "stdout",
     "output_type": "stream",
     "text": [
      "<pandas.core.groupby.generic.DataFrameGroupBy object at 0x7abfaae394f0>\n"
     ]
    }
   ],
   "source": [
    "df_filtrato = df_clusters_hough_best[[\"event\",'trk_index', 'trk_nr']]\n",
    "\n",
    "print(df_filtrato.groupby(\"event\"))"
   ]
  },
  {
   "cell_type": "code",
   "execution_count": 21,
   "id": "00437f99",
   "metadata": {},
   "outputs": [
    {
     "name": "stdout",
     "output_type": "stream",
     "text": [
      "event  trk_index\n",
      "0      1            [-1.0, 2.0]\n",
      "       2            [2.0, -1.0]\n",
      "       3                  [1.0]\n",
      "       4                 [-1.0]\n",
      "       5                  [0.0]\n",
      "                       ...     \n",
      "499    1                  [0.0]\n",
      "       2                  [2.0]\n",
      "       3                  [1.0]\n",
      "       4                  [2.0]\n",
      "       5                 [-1.0]\n",
      "Name: trk_nr, Length: 2474, dtype: object\n"
     ]
    },
    {
     "data": {
      "text/plain": [
       "'for idx,check in df_filtrato.groupby(\"event\"):\\n    print(idx)\\n    print(check)\\n'"
      ]
     },
     "execution_count": 21,
     "metadata": {},
     "output_type": "execute_result"
    }
   ],
   "source": [
    "a = df_clusters_hough_best.groupby([\"event\",'trk_index'])\n",
    "print(a['trk_nr'].unique())\n",
    "'''for idx,check in df_filtrato.groupby(\"event\"):\n",
    "    print(idx)\n",
    "    print(check)\n",
    "'''"
   ]
  },
  {
   "cell_type": "code",
   "execution_count": null,
   "id": "a8da9fea",
   "metadata": {},
   "outputs": [],
   "source": []
  }
 ],
 "metadata": {
  "kernelspec": {
   "display_name": "venv",
   "language": "python",
   "name": "python3"
  },
  "language_info": {
   "codemirror_mode": {
    "name": "ipython",
    "version": 3
   },
   "file_extension": ".py",
   "mimetype": "text/x-python",
   "name": "python",
   "nbconvert_exporter": "python",
   "pygments_lexer": "ipython3",
   "version": "3.13.5"
  }
 },
 "nbformat": 4,
 "nbformat_minor": 5
}
